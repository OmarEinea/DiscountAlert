{
 "cells": [
  {
   "cell_type": "code",
   "execution_count": 1,
   "metadata": {},
   "outputs": [],
   "source": [
    "from selenium.webdriver.support import expected_conditions as EC\n",
    "from selenium.webdriver.support.ui import WebDriverWait\n",
    "from selenium.webdriver.common.by import By\n",
    "from selenium.webdriver import Chrome\n",
    "from json import load, dump as save\n",
    "from datetime import datetime\n",
    "from os import listdir\n",
    "import re\n",
    "\n",
    "br = None\n",
    "clean = re.compile(r'\\n|\\s{2,}').sub\n",
    "id = lambda item: item.get_attribute('data-id')\n",
    "price = lambda item: int(item.find_element_by_xpath('.//span[@itemprop=\"price\"]').text)\n",
    "url = 'https://www.{}.com/ae/en/search?price=0,40&q=allCategories:men-regular:allPromotions.en:Sale:index:price'\n",
    "sites = {\n",
    "    'max': 'maxfashion',\n",
    "    'splash': 'splashfashions',\n",
    "    'center': 'centrepointstores'\n",
    "}"
   ]
  },
  {
   "cell_type": "code",
   "execution_count": 2,
   "metadata": {},
   "outputs": [],
   "source": [
    "def browse(site):\n",
    "    global br\n",
    "    try: br.title\n",
    "    except: br = Chrome()\n",
    "    br.maximize_window()\n",
    "    br.get(url.format(sites[site]))\n",
    "\n",
    "def foreach_item(execute):\n",
    "    for page in range(2, 22):\n",
    "        [execute(item) for item in br.find_elements_by_class_name('product-item')]\n",
    "        br.find_element_by_class_name('next').click()\n",
    "        try: WebDriverWait(br, 6).until(EC.text_to_be_present_in_element((By.CLASS_NAME, 'current'), str(page)))\n",
    "        except: break\n",
    "\n",
    "def get_old_discounts():\n",
    "    try: return load(open('old.json'))\n",
    "    except: old = {}\n",
    "    foreach_item(lambda item: old.setdefault(id(item), price(item)))\n",
    "    save(old, open('old.json', 'w+'))\n",
    "    return old"
   ]
  },
  {
   "cell_type": "code",
   "execution_count": 3,
   "metadata": {},
   "outputs": [],
   "source": [
    "def check_new_discounts(website):\n",
    "    browse(website)\n",
    "    old, new = get_old_discounts(), []\n",
    "    def check_item(item):\n",
    "        _id = id(item)\n",
    "        _price = price(item)\n",
    "        if _price < old.get(_id, 1000):\n",
    "            new.append(clean('', item.get_attribute('outerHTML')))\n",
    "            old[_id] = _price\n",
    "    foreach_item(check_item)\n",
    "    if new:\n",
    "        save(old, open('old.json', 'w'))\n",
    "        save(new, open(f\"new_{str(datetime.now())[:-10].replace(' ', '_').replace(':', '-')}.json\", 'w+'))\n",
    "    return f'Found {len(new)} new discounts'"
   ]
  },
  {
   "cell_type": "code",
   "execution_count": 4,
   "metadata": {},
   "outputs": [],
   "source": [
    "def show_new_discounts():\n",
    "    browse('max')\n",
    "    items = []\n",
    "    for file in listdir():\n",
    "        if file.startswith('new') and file.endswith('json'):\n",
    "            items.extend(load(open(file)))\n",
    "    html = ''.join(items).replace(\"'\", r\"\\'\")\n",
    "    br.execute_script(f\"document.getElementById('products-list').innerHTML = '{html}';\")\n",
    "    br.execute_script(f\"document.getElementById('sort-panel').remove();\")\n",
    "    br.execute_script(f\"document.getElementById('lms-pagination').remove();\")\n",
    "    return 'Discounts loaded into browser'"
   ]
  },
  {
   "cell_type": "markdown",
   "metadata": {},
   "source": [
    "### Check for discounts"
   ]
  },
  {
   "cell_type": "code",
   "execution_count": 5,
   "metadata": {
    "scrolled": true
   },
   "outputs": [
    {
     "data": {
      "text/plain": [
       "'Found 5 new discounts'"
      ]
     },
     "execution_count": 5,
     "metadata": {},
     "output_type": "execute_result"
    }
   ],
   "source": [
    "check_new_discounts('splash')"
   ]
  },
  {
   "cell_type": "code",
   "execution_count": 6,
   "metadata": {},
   "outputs": [
    {
     "data": {
      "text/plain": [
       "'Found 0 new discounts'"
      ]
     },
     "execution_count": 6,
     "metadata": {},
     "output_type": "execute_result"
    }
   ],
   "source": [
    "check_new_discounts('max')"
   ]
  },
  {
   "cell_type": "code",
   "execution_count": 7,
   "metadata": {
    "scrolled": true
   },
   "outputs": [
    {
     "data": {
      "text/plain": [
       "'Discounts loaded into browser'"
      ]
     },
     "execution_count": 7,
     "metadata": {},
     "output_type": "execute_result"
    }
   ],
   "source": [
    "show_new_discounts()"
   ]
  }
 ],
 "metadata": {
  "kernelspec": {
   "display_name": "Python 3",
   "language": "python",
   "name": "python3"
  },
  "language_info": {
   "codemirror_mode": {
    "name": "ipython",
    "version": 3
   },
   "file_extension": ".py",
   "mimetype": "text/x-python",
   "name": "python",
   "nbconvert_exporter": "python",
   "pygments_lexer": "ipython3",
   "version": "3.6.7"
  }
 },
 "nbformat": 4,
 "nbformat_minor": 2
}
