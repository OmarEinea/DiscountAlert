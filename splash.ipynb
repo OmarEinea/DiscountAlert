{
 "cells": [
  {
   "cell_type": "code",
   "execution_count": 1,
   "metadata": {},
   "outputs": [],
   "source": [
    "from selenium.webdriver import Chrome\n",
    "from selenium.webdriver.common.by import By\n",
    "from selenium.webdriver.support.ui import WebDriverWait\n",
    "from selenium.webdriver.support import expected_conditions as EC\n",
    "from json import load, dump as save\n",
    "import re\n",
    "\n",
    "clean = re.compile(r'\\n|\\s{2,}').sub\n",
    "id = lambda item: item.get_attribute('data-id')\n",
    "price = lambda item: int(item.find_element_by_xpath('.//span[@itemprop=\"price\"]').text)\n",
    "url = 'https://www.splashfashions.com/ae/en/search?price=0,40&q=allCategories:men-regular:badge.title.en:Sale:index:price'\n",
    "\n",
    "def foreach_item(execute):\n",
    "    for page in range(2, 22):\n",
    "        [execute(item) for item in br.find_elements_by_class_name('product-item')]\n",
    "        try: br.find_element_by_class_name('next').click()\n",
    "        except: break\n",
    "        if page < 21: WebDriverWait(br, 10).until(EC.text_to_be_present_in_element((By.CLASS_NAME, 'current'), str(page)))\n",
    "\n",
    "def get_old_discounts():\n",
    "    try: return load(open('old.json'))\n",
    "    except: old = {}\n",
    "    foreach_item(lambda item: old.setdefault(id(item), price(item)))\n",
    "    save(old, open('old.json', 'w+'))\n",
    "    return old"
   ]
  }
 ],
 "metadata": {
  "kernelspec": {
   "display_name": "Python 3",
   "language": "python",
   "name": "python3"
  },
  "language_info": {
   "codemirror_mode": {
    "name": "ipython",
    "version": 3
   },
   "file_extension": ".py",
   "mimetype": "text/x-python",
   "name": "python",
   "nbconvert_exporter": "python",
   "pygments_lexer": "ipython3",
   "version": "3.6.7"
  }
 },
 "nbformat": 4,
 "nbformat_minor": 2
}
